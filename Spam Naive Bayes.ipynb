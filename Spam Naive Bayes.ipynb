{
  "nbformat": 4,
  "nbformat_minor": 0,
  "metadata": {
    "colab": {
      "name": "Spam Naive Bayes.ipynb",
      "version": "0.3.2",
      "provenance": [],
      "toc_visible": true,
      "include_colab_link": true
    },
    "language_info": {
      "codemirror_mode": {
        "name": "ipython",
        "version": 3
      },
      "file_extension": ".py",
      "mimetype": "text/x-python",
      "name": "python",
      "nbconvert_exporter": "python",
      "pygments_lexer": "ipython3",
      "version": "3.5.2"
    },
    "kernelspec": {
      "display_name": "Python 3",
      "language": "python",
      "name": "python3"
    }
  },
  "cells": [
    {
      "cell_type": "markdown",
      "metadata": {
        "id": "view-in-github",
        "colab_type": "text"
      },
      "source": [
        "<a href=\"https://colab.research.google.com/github/NguyenDa18/MachineLearning_HW6/blob/master/Spam%20Naive%20Bayes.ipynb\" target=\"_parent\"><img src=\"https://colab.research.google.com/assets/colab-badge.svg\" alt=\"Open In Colab\"/></a>"
      ]
    },
    {
      "metadata": {
        "id": "vHLLbJphV7YP",
        "colab_type": "code",
        "colab": {}
      },
      "cell_type": "code",
      "source": [
        "import random\n",
        "import math\n",
        "\n",
        "# make training and test datasets\n",
        "def split_dataset(dataset, split_ratio):\n",
        "    train_size = int(len(dataset) * split_ratio)\n",
        "    train_set = []\n",
        "    copy = list(dataset)\n",
        "    while (len(train_set) < train_size):\n",
        "        index = random.randrange(len(copy))\n",
        "        train_set.append(copy.pop(index))\n",
        "    return [train_set, copy]"
      ],
      "execution_count": 0,
      "outputs": []
    },
    {
      "metadata": {
        "id": "lYqSbcPLV7YV",
        "colab_type": "text"
      },
      "cell_type": "markdown",
      "source": [
        "# Spam Classifier\n",
        "- Column 1 = feature vector instance number\n",
        "- Column 2 = {-1,1} whether message is spam (1) or not (-1)\n",
        "- Column 3 = feature vector, 344 chars long where each char is a unique word or an email feature that would identify email as spam/non-spam. Boolean of whether or not feature occurred in email (1 = yes, 0 = no)\n",
        "\n",
        "- [Source](https://www.youtube.com/watch?v=8aZNAmWKGfs)"
      ]
    },
    {
      "metadata": {
        "id": "_CDDgnPtWEyH",
        "colab_type": "text"
      },
      "cell_type": "markdown",
      "source": [
        "# 1) Process txt data and split into test and train sets"
      ]
    },
    {
      "metadata": {
        "id": "iblTo-vDuPbl",
        "colab_type": "code",
        "colab": {}
      },
      "cell_type": "code",
      "source": [
        "# Create our Spam / Non-Spam data structs\n",
        "# total_SPAM = number of total data considered spam\n",
        "# total_HAM = number of total data considered ham\n",
        "\n",
        "def process_data(data):\n",
        "    total_SPAM = 0\n",
        "    total_HAM = 0\n",
        "    \n",
        "    num_spam = [1] * (344 + 1)\n",
        "    num_ham = [1] * (344 + 1)\n",
        "  \n",
        "    for row in data:\n",
        "        spam = row['spam'] == 1\n",
        "        if (spam == 1):\n",
        "            total_SPAM += 1\n",
        "        else:\n",
        "            total_HAM += 1\n",
        "            \n",
        "        for i, c in enumerate(row['characters']):\n",
        "            if (c == '1'):\n",
        "                if (spam):\n",
        "                    num_spam[i] += 1\n",
        "                else:\n",
        "                    num_ham[i] += 1\n",
        "                    \n",
        "            i += 1\n",
        "    return total_SPAM, total_HAM, num_spam, num_ham"
      ],
      "execution_count": 0,
      "outputs": []
    },
    {
      "metadata": {
        "id": "xH3LnkreHuc3",
        "colab_type": "code",
        "colab": {}
      },
      "cell_type": "code",
      "source": [
        "def get_testing_set(data):\n",
        "    validation_set = []\n",
        "    for d in data:\n",
        "        if not d in training_set:\n",
        "            validation_set.append(d)\n",
        "            \n",
        "    return validation_set"
      ],
      "execution_count": 0,
      "outputs": []
    },
    {
      "metadata": {
        "id": "Ww6sCh_YV7YX",
        "colab_type": "code",
        "outputId": "a075f339-c5c4-4ca3-e07a-96b63c020075",
        "colab": {
          "base_uri": "https://localhost:8080/",
          "height": 130
        }
      },
      "cell_type": "code",
      "source": [
        "import pandas as pd\n",
        "import numpy as np\n",
        "\n",
        "df_j = pd.read_csv('./SpamInstances.txt', header=None)\n",
        "\n",
        "# Divide each row into arrs\n",
        "df_j = df_j[0].str.split(\" \")[1:]\n",
        "for row in range(len(df_j)):\n",
        "    df_j.iloc[row] = [int(el) for el in df_j.iloc[row]]\n",
        "    \n",
        "    \n",
        "for i, el in enumerate(np.linspace(100, 0.8 * len(df_j), 20)):\n",
        "  el = int(el)\n",
        "  \n",
        "  data = df_j\n",
        "  num_SPAM, num_HAM = process_data(df_j)\n",
        "  \n",
        "  \n",
        "  \n",
        "    \n",
        "df_j, df_j_test = split_dataset(df_j, 0.80)\n",
        "\n",
        "print(len(df_j))\n",
        "print(len(df_j_test))\n",
        "\n"
      ],
      "execution_count": 3,
      "outputs": [
        {
          "output_type": "error",
          "ename": "SyntaxError",
          "evalue": "ignored",
          "traceback": [
            "\u001b[0;36m  File \u001b[0;32m\"<ipython-input-3-23e93856f390>\"\u001b[0;36m, line \u001b[0;32m12\u001b[0m\n\u001b[0;31m    for i, int(el) in enumerate(np.linspace(100, 0.8 * len(df_j), 20)):\u001b[0m\n\u001b[0m          ^\u001b[0m\n\u001b[0;31mSyntaxError\u001b[0m\u001b[0;31m:\u001b[0m can't assign to function call\n"
          ]
        }
      ]
    },
    {
      "metadata": {
        "id": "NvW-UKvnWQKd",
        "colab_type": "text"
      },
      "cell_type": "markdown",
      "source": [
        "# 2) Calculate Priors\n",
        "- total num. SPAM & num. HAM in test dataset\n",
        "- probability of SPAM & HAM for each feature in a vector"
      ]
    },
    {
      "metadata": {
        "id": "WHTq-aCVV7Ym",
        "colab_type": "code",
        "colab": {}
      },
      "cell_type": "code",
      "source": [
        "# Count number of times feature occurred in message\n",
        "def calc_feature_info(str):\n",
        "    occurred = str.count('1')\n",
        "    non_occurred = str.count('0')\n",
        "    return occurred, non_occurred"
      ],
      "execution_count": 0,
      "outputs": []
    },
    {
      "metadata": {
        "id": "M9MAqq1vV7Y5",
        "colab_type": "code",
        "colab": {}
      },
      "cell_type": "code",
      "source": [
        "# USE Naive Bayes to detect spam/ham\n",
        "def classify_data(data):\n",
        "  ham_probs, spam_probs = find_priors()\n",
        "  spam_probabilities = []\n",
        "  ham_probabilities = []\n",
        "  for i, ltr in enumerate(str(data)):\n",
        "    if ltr == '1':\n",
        "      spam_probabilities += [spam_probs[i]]\n",
        "      ham_probabilities += [ham_probs[i]]\n",
        "    elif ltr == '0':\n",
        "      spam_probabilities += [1 - spam_probs[i]]\n",
        "      ham_probabilities += [1 - ham_probs[i]]\n",
        "      \n",
        "  # probability product for each feature vector that => SPAM\n",
        "  spam_result = np.prod(np.array(spam_probabilities))\n",
        "  \n",
        "  # probability product for each feature vector that => HAM\n",
        "  ham_result = np.prod(np.array(ham_probabilities))\n",
        "  return spam_result, ham_result"
      ],
      "execution_count": 0,
      "outputs": []
    },
    {
      "metadata": {
        "id": "rYBWlve2a64Z",
        "colab_type": "code",
        "colab": {}
      },
      "cell_type": "code",
      "source": [
        "def test_spam_naive_bayes(vector):\n",
        "  spam_result, ham_result = classify_data(str(vector))\n",
        "  \n",
        "  # P(feature1 | SPAM) * P(feature2 | SPAM) * ... * P(featureN | SPAM) * P(SPAM) /\n",
        "  # P(feature1 | SPAM) * P(feature2 | SPAM) * ... * P(featureN | SPAM) * P(SPAM) + P(feature1 | HAM) * P(feature2 | HAM) * ... * P(featureN | HAM) * P(HAM)\n",
        "  \n",
        "  num_SPAM, num_HAM = preprocess_test_data()\n",
        "  P_SPAM = num_SPAM / len(df_j) # 0.43311608698457765\n",
        "  P_HAM = num_HAM / len(df_j) # 0.5668839130154223\n",
        "  \n",
        "  is_spam = (spam_result * P_SPAM) / ((spam_result * P_SPAM) + (ham_result * P_HAM))\n",
        "  is_ham = (ham_result * P_HAM) / ((spam_result * P_SPAM) + (ham_result * P_HAM))\n",
        "  return is_spam, is_ham"
      ],
      "execution_count": 0,
      "outputs": []
    },
    {
      "metadata": {
        "id": "fy5NFbiZcZJx",
        "colab_type": "code",
        "outputId": "d8cc607d-440c-4f92-89cf-5d281051a20c",
        "colab": {
          "base_uri": "https://localhost:8080/",
          "height": 187
        }
      },
      "cell_type": "code",
      "source": [
        "for i in range(len(df_j_test[:10])):\n",
        "  is_spam, is_ham = test_spam_naive_bayes(i)\n",
        "  print(is_spam, is_ham)"
      ],
      "execution_count": 0,
      "outputs": [
        {
          "output_type": "stream",
          "text": [
            "1523.170686456151 -1522.170686456151\n",
            "0.9132568479438559 0.08674315205614415\n",
            "0.43413729128014844 0.5658627087198516\n",
            "0.43413729128014844 0.5658627087198516\n",
            "0.43413729128014844 0.5658627087198516\n",
            "0.43413729128014844 0.5658627087198516\n",
            "0.43413729128014844 0.5658627087198516\n",
            "0.43413729128014844 0.5658627087198516\n",
            "0.43413729128014844 0.5658627087198516\n",
            "0.43413729128014844 0.5658627087198516\n"
          ],
          "name": "stdout"
        }
      ]
    },
    {
      "metadata": {
        "id": "1qV4YsLPurNV",
        "colab_type": "code",
        "colab": {}
      },
      "cell_type": "code",
      "source": [
        ""
      ],
      "execution_count": 0,
      "outputs": []
    }
  ]
}