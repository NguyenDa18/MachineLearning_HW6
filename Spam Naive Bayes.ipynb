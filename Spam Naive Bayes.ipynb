{
  "nbformat": 4,
  "nbformat_minor": 0,
  "metadata": {
    "colab": {
      "name": "Spam Naive Bayes.ipynb",
      "version": "0.3.2",
      "provenance": [],
      "toc_visible": true,
      "include_colab_link": true
    },
    "language_info": {
      "codemirror_mode": {
        "name": "ipython",
        "version": 3
      },
      "file_extension": ".py",
      "mimetype": "text/x-python",
      "name": "python",
      "nbconvert_exporter": "python",
      "pygments_lexer": "ipython3",
      "version": "3.5.2"
    },
    "kernelspec": {
      "display_name": "Python 3",
      "language": "python",
      "name": "python3"
    }
  },
  "cells": [
    {
      "cell_type": "markdown",
      "metadata": {
        "id": "view-in-github",
        "colab_type": "text"
      },
      "source": [
        "<a href=\"https://colab.research.google.com/github/NguyenDa18/MachineLearning_HW6/blob/master/Spam%20Naive%20Bayes.ipynb\" target=\"_parent\"><img src=\"https://colab.research.google.com/assets/colab-badge.svg\" alt=\"Open In Colab\"/></a>"
      ]
    },
    {
      "metadata": {
        "id": "vHLLbJphV7YP",
        "colab_type": "code",
        "colab": {}
      },
      "cell_type": "code",
      "source": [
        "import csv\n",
        "import random\n",
        "import math\n",
        "\n",
        "def mean(numbers):\n",
        "    return sum(numbers) / float(len(numbers))\n",
        "\n",
        "def stdev(numbers):\n",
        "    avg = mean(numbers)\n",
        "    variance = sum([pow(x - avg, 2) for x in numbers]) / float(len(numbers) - 1)\n",
        "    return math.sqrt(variance)\n",
        "\n",
        "# make training and test datasets\n",
        "def split_dataset(dataset, split_ratio):\n",
        "    train_size = int(len(dataset) * split_ratio)\n",
        "    train_set = []\n",
        "    copy = list(dataset)\n",
        "    while (len(train_set) < train_size):\n",
        "        index = random.randrange(len(copy))\n",
        "        train_set.append(copy.pop(index))\n",
        "    return [train_set, copy]\n",
        "\n",
        "def summarize(dataset):\n",
        "    summaries = [(mean(attribute), stdev(attribute)) for attribute in zip(*dataset)]\n",
        "    return summaries"
      ],
      "execution_count": 0,
      "outputs": []
    },
    {
      "metadata": {
        "id": "lYqSbcPLV7YV",
        "colab_type": "text"
      },
      "cell_type": "markdown",
      "source": [
        "# Spam Classifier\n",
        "- Column 1 = feature vector instance number\n",
        "- Column 2 = {-1,1} whether message is spam (1) or not (-1)\n",
        "- Column 3 = feature vector, 344 chars long where each char is a unique word or an email feature that would identify email as spam/non-spam. Boolean of whether or not feature occurred in email (1 = yes, 0 = no)\n",
        "\n",
        "- [Source](https://www.youtube.com/watch?v=8aZNAmWKGfs)"
      ]
    },
    {
      "metadata": {
        "id": "_CDDgnPtWEyH",
        "colab_type": "text"
      },
      "cell_type": "markdown",
      "source": [
        "# 1) Process txt data and split into test and train sets"
      ]
    },
    {
      "metadata": {
        "id": "Ww6sCh_YV7YX",
        "colab_type": "code",
        "colab": {}
      },
      "cell_type": "code",
      "source": [
        "%matplotlib inline\n",
        "import matplotlib.pyplot as plt\n",
        "import pandas as pd\n",
        "import numpy as np\n",
        "import seaborn as sns\n",
        "\n",
        "df_j = pd.read_csv('./SpamInstances.txt', header=None)\n",
        "\n",
        "# Divide each row into arrs\n",
        "df_j = df_j[0].str.split(\" \")[1:]\n",
        "for row in range(len(df_j)):\n",
        "    df_j.iloc[row] = [int(el) for el in df_j.iloc[row]]\n",
        "    \n",
        "    \n",
        "df_j, df_j_test = split_dataset(df_j, 0.20)\n"
      ],
      "execution_count": 0,
      "outputs": []
    },
    {
      "metadata": {
        "id": "WHTq-aCVV7Ym",
        "colab_type": "code",
        "colab": {}
      },
      "cell_type": "code",
      "source": [
        "# Count number of times feature occurred in message\n",
        "def calc_feature_info(str):\n",
        "    occurred = str.count('1')\n",
        "    non_occurred = str.count('0')\n",
        "    return occurred, non_occurred"
      ],
      "execution_count": 0,
      "outputs": []
    },
    {
      "metadata": {
        "id": "NvW-UKvnWQKd",
        "colab_type": "text"
      },
      "cell_type": "markdown",
      "source": [
        "# 2) Calculate Priors\n",
        "- total # SPAM + HAM in test dataset\n",
        "- probability of SPAM / HAM for each feature in a vector"
      ]
    },
    {
      "metadata": {
        "id": "_f3KkWPjV7Yq",
        "colab_type": "code",
        "colab": {
          "base_uri": "https://localhost:8080/",
          "height": 34
        },
        "outputId": "4080752e-aecc-4aa8-ba07-dc08d4767484"
      },
      "cell_type": "code",
      "source": [
        "# Create our Spam / Non-Spam data structs\n",
        "# SPAM = number of total data considered spam\n",
        "# HAM = number of total data considered ham\n",
        "# spam_feature = number of occurrences of feature in vector\n",
        "# ham_feature = number of occurrences of non-spam feature in vector\n",
        "SPAM = []\n",
        "HAM = []\n",
        "spam_feature = {}\n",
        "ham_feature = {}\n",
        "\n",
        "for row in range(len(df_j)):\n",
        "    if (df_j[row][1] == 1):\n",
        "        SPAM += [df_j[row]]\n",
        "    elif (df_j[row][1] == -1):\n",
        "        HAM += [df_j[row]]\n",
        "    else:\n",
        "        print(df_j.iloc[row])\n",
        "        \n",
        "for row in range(len(df_j)):\n",
        "    vector = str(df_j[row][2])\n",
        "    occurred, non_occurred = calc_feature_info(vector)\n",
        "    spam_feature[df_j[row][0]] = occurred / len(vector)\n",
        "    ham_feature[df_j[row][0]] = non_occurred / len(vector)\n",
        "        \n",
        "        \n",
        "num_SPAM = len(SPAM) # 6712\n",
        "num_HAM = len(HAM) # 8785\n",
        "\n",
        "print(num_SPAM)\n",
        "\n",
        "P_SPAM = num_SPAM / len(df_j) # 0.43311608698457765\n",
        "P_HAM = num_HAM / len(df_j) # 0.5668839130154223"
      ],
      "execution_count": 20,
      "outputs": [
        {
          "output_type": "stream",
          "text": [
            "1367\n"
          ],
          "name": "stdout"
        }
      ]
    },
    {
      "metadata": {
        "id": "e5oEomFLV7Yu",
        "colab_type": "code",
        "colab": {}
      },
      "cell_type": "code",
      "source": [
        "ham_probs = [0] * 334\n",
        "spam_probs = [0] * 334\n",
        "\n",
        "for row in range(len(df_j)):\n",
        "    vector = str(df_j[row][2])\n",
        "    for i, ltr in enumerate(vector):\n",
        "        if (ltr == '1'):\n",
        "            spam_probs[i] += 1\n",
        "        elif (ltr == '0'):\n",
        "            ham_probs[i] += 1\n",
        "            \n",
        "ham_probs = [x / num_HAM for x in ham_probs]\n",
        "spam_probs = [x / num_SPAM for x in spam_probs]"
      ],
      "execution_count": 0,
      "outputs": []
    },
    {
      "metadata": {
        "id": "M9MAqq1vV7Y5",
        "colab_type": "code",
        "colab": {
          "base_uri": "https://localhost:8080/",
          "height": 34
        },
        "outputId": "3405cd9d-7bc4-4e38-b286-43d5c7ecc9eb"
      },
      "cell_type": "code",
      "source": [
        "# USE Naive Bayes to detect spam/ham\n",
        "def classify_data(data):\n",
        "  spam_probabilities = []\n",
        "  ham_probabilities = []\n",
        "  for i, ltr in enumerate(str(data)):\n",
        "    if ltr == '1':\n",
        "      spam_probabilities += [spam_probs[i]]\n",
        "      ham_probabilities += [ham_probs[i]]\n",
        "    elif ltr == '0':\n",
        "      spam_probabilities += [1 - spam_probs[i]]\n",
        "      ham_probabilities += [1 - ham_probs[i]]\n",
        "  spam_result = np.prod(np.array(spam_probabilities))\n",
        "  ham_result = np.prod(np.array(ham_probabilities))\n",
        "  return spam_result, ham_result\n",
        "      \n",
        "vector = 10000001000100100000000000000000100000000000000000000000000000000000000000000000000000001000000000000010000000000000010000000001000000000000000000000000100000000000000000001000000000000000000000000000000000000000000000000000000000000000000000000000000000000000000000000000000000000000000000000000000000000000000000000000000000000000   \n",
        "is_spam, is_ham = classify_data(vector)\n",
        "print(is_ham < is_spam)"
      ],
      "execution_count": 17,
      "outputs": [
        {
          "output_type": "stream",
          "text": [
            "True\n"
          ],
          "name": "stdout"
        }
      ]
    },
    {
      "metadata": {
        "id": "i_NWRZX9Wl3g",
        "colab_type": "code",
        "outputId": "bf159e8b-e642-4258-de04-781b8e751da9",
        "colab": {
          "base_uri": "https://localhost:8080/",
          "height": 34
        }
      },
      "cell_type": "code",
      "source": [
        "def detect_spam_naive_bayes():\n",
        "  # P(B) / (P(B) + P(A))\n",
        "  return (is_ham * P_HAM) / ((is_ham * P_HAM) + (is_spam * P_SPAM))\n",
        "\n",
        "ans = detect_spam_naive_bayes()\n",
        "print(ans)"
      ],
      "execution_count": 23,
      "outputs": [
        {
          "output_type": "stream",
          "text": [
            "6.774597373282418e-60\n"
          ],
          "name": "stdout"
        }
      ]
    },
    {
      "metadata": {
        "id": "Xl2XSTwDeqrx",
        "colab_type": "code",
        "colab": {}
      },
      "cell_type": "code",
      "source": [
        ""
      ],
      "execution_count": 0,
      "outputs": []
    }
  ]
}