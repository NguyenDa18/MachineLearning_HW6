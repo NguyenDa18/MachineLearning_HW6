{
  "nbformat": 4,
  "nbformat_minor": 0,
  "metadata": {
    "colab": {
      "name": "Spam Naive Bayes.ipynb",
      "version": "0.3.2",
      "provenance": [],
      "toc_visible": true,
      "include_colab_link": true
    },
    "language_info": {
      "codemirror_mode": {
        "name": "ipython",
        "version": 3
      },
      "file_extension": ".py",
      "mimetype": "text/x-python",
      "name": "python",
      "nbconvert_exporter": "python",
      "pygments_lexer": "ipython3",
      "version": "3.5.2"
    },
    "kernelspec": {
      "display_name": "Python 3",
      "language": "python",
      "name": "python3"
    }
  },
  "cells": [
    {
      "cell_type": "markdown",
      "metadata": {
        "id": "view-in-github",
        "colab_type": "text"
      },
      "source": [
        "<a href=\"https://colab.research.google.com/github/NguyenDa18/MachineLearning_HW6/blob/master/Spam%20Naive%20Bayes.ipynb\" target=\"_parent\"><img src=\"https://colab.research.google.com/assets/colab-badge.svg\" alt=\"Open In Colab\"/></a>"
      ]
    },
    {
      "metadata": {
        "id": "lYqSbcPLV7YV",
        "colab_type": "text"
      },
      "cell_type": "markdown",
      "source": [
        "# Spam Classifier\n",
        "- Column 1 = feature vector instance number\n",
        "- Column 2 = {-1,1} whether message is spam (1) or not (-1)\n",
        "- Column 3 = feature vector, 344 chars long where each char is a unique word or an email feature that would identify email as spam/non-spam. Boolean of whether or not feature occurred in email (1 = yes, 0 = no)\n",
        "\n",
        "- [Source](https://www.youtube.com/watch?v=8aZNAmWKGfs)"
      ]
    },
    {
      "metadata": {
        "id": "_CDDgnPtWEyH",
        "colab_type": "text"
      },
      "cell_type": "markdown",
      "source": [
        "# 1) Process txt data and split into test and train sets"
      ]
    },
    {
      "metadata": {
        "id": "0QIdokame4Zf",
        "colab_type": "code",
        "colab": {}
      },
      "cell_type": "code",
      "source": [
        "\n",
        "import pandas as pd\n",
        "import numpy as np\n",
        "\n",
        "data_o = pd.read_csv('./SpamInstances.txt', header=None)\n",
        "\n",
        "# Divide each row into arrs\n",
        "data_o = data_o[0].str.split(\" \")[1:]\n",
        "for row in range(len(data_o)):\n",
        "    data_o.iloc[row] = [int(el) for el in data_o.iloc[row]]\n",
        "    \n",
        "for row in data_o:\n",
        "  row[2] = str(row[2])"
      ],
      "execution_count": 0,
      "outputs": []
    },
    {
      "metadata": {
        "id": "iblTo-vDuPbl",
        "colab_type": "code",
        "colab": {}
      },
      "cell_type": "code",
      "source": [
        "# Create our Spam / Non-Spam data structs\n",
        "\n",
        "def process_data(data):\n",
        "    total_SPAM = 0\n",
        "    total_HAM = 0\n",
        "    \n",
        "    num_spam = [1] * (344 + 1)\n",
        "    num_ham = [1] * (344 + 1)\n",
        "  \n",
        "    for row in data:\n",
        "        spam = row[1] == 1\n",
        "        if (spam == 1):\n",
        "            total_SPAM += 1\n",
        "        else:\n",
        "            total_HAM += 1\n",
        "            \n",
        "        for i, c in enumerate(row[2]):\n",
        "            if (c == '1'):\n",
        "                if (spam):\n",
        "                    num_spam[i] += 1\n",
        "                else:\n",
        "                    num_ham[i] += 1\n",
        "                    \n",
        "            i += 1\n",
        "    return total_SPAM, total_HAM, num_spam, num_ham"
      ],
      "execution_count": 0,
      "outputs": []
    },
    {
      "metadata": {
        "id": "xH3LnkreHuc3",
        "colab_type": "code",
        "colab": {}
      },
      "cell_type": "code",
      "source": [
        "def get_testing_set(data):\n",
        "    validation_set = [d for d in data if not d in training_set]\n",
        "    return validation_set"
      ],
      "execution_count": 0,
      "outputs": []
    },
    {
      "metadata": {
        "id": "Ww6sCh_YV7YX",
        "colab_type": "code",
        "outputId": "83746fd2-7368-4cce-e3e4-9f0ebdb46508",
        "colab": {
          "base_uri": "https://localhost:8080/",
          "height": 1666
        }
      },
      "cell_type": "code",
      "source": [
        "t = 0\n",
        "total_accuracy = 0\n",
        "total_penalty = 0\n",
        "total_false_positives = 0\n",
        "total_false_negatives = 0\n",
        "for e in numpy.linspace(100, 0.8 * len(data_o), 20):\n",
        "    e = int(e)\n",
        "    data = data_o\n",
        "    t += 1\n",
        "    print(\"Partitioned Set (\" + str(t) + \") | Training set size: \" + str(e) + \":\")\n",
        "\n",
        "    # preprocessing\n",
        "    training_set = random.sample(list(data), e)\n",
        "    validation_set = get_testing_set(data)\n",
        "    data = training_set\n",
        "    den_spam, den_ham, num_spam, num_ham = process_data(data)\n",
        "\n",
        "    accuracy = 0\n",
        "    false_positives = 0\n",
        "    false_negatives = 0\n",
        "    count = 0\n",
        "    data = validation_set\n",
        "    for d in data:\n",
        "        count += 1\n",
        "        spam = 1.0\n",
        "        ham = 1.0\n",
        "        for i, c in enumerate(d[2]):\n",
        "            fraction_spam = float(num_spam[i]) / float(den_spam)\n",
        "            fraction_ham = float(num_ham[i]) / float(den_ham)\n",
        "            if (c == \"1\"):\n",
        "                spam *= fraction_spam\n",
        "                ham *= fraction_ham\n",
        "        is_spam = (spam > ham) * 2 - 1\n",
        "        if (is_spam == d[1]):\n",
        "            accuracy += 1\n",
        "            total_accuracy += 1\n",
        "        elif (is_spam == 1 and d[1] == -1):\n",
        "            false_positives += 1\n",
        "            total_false_positives += 1\n",
        "            total_penalty += 1\n",
        "        elif (is_spam == -1 and d[1] == 1):\n",
        "            false_negatives += 1\n",
        "            total_false_negatives += 1\n",
        "            total_penalty += 1\n",
        "\n",
        "    print(\"Accuracy: \" + str(accuracy) + \" out of \" + str(count) + \"; \" + str(float(accuracy) / count))\n",
        "    print(\"False positives \" + str(false_positives))\n",
        "    print(\"False negatives \" + str(false_negatives))\n",
        "    \n",
        "print(\"Total accuracy: \" + str(total_accuracy) + \", penalty: \" + str(total_penalty))\n",
        "print(\"Total stats: \\n Total false positives: \" + str(total_false_positives) + \"; Total false negatives: \" + str(total_false_negatives)) \n",
        "\n",
        "\n",
        "#### PIE CHART ####\n",
        "labels = 'Accuracy', 'False Positives', 'False Negatives'\n",
        "sizes = [total_accuracy, total_false_positives, total_false_negatives]\n",
        "colors = ['yellowgreen', 'lightcoral', 'lightskyblue']\n",
        "# Plot\n",
        "plt.pie(sizes, labels=labels, colors=colors,\n",
        "autopct='%1.1f%%', shadow=True, startangle=140)\n",
        " \n",
        "plt.axis('equal')\n",
        "plt.show()\n"
      ],
      "execution_count": 0,
      "outputs": [
        {
          "output_type": "stream",
          "text": [
            "Partitioned Set (1) | Training set size: 100:\n",
            "Accuracy: 8005 out of 15397; 0.5199064752873936\n",
            "False positives 7386\n",
            "False negatives 6\n",
            "Partitioned Set (2) | Training set size: 747:\n",
            "Accuracy: 7663 out of 14750; 0.5195254237288136\n",
            "False positives 7081\n",
            "False negatives 6\n",
            "Partitioned Set (3) | Training set size: 1394:\n",
            "Accuracy: 7266 out of 14103; 0.515209529887258\n",
            "False positives 6831\n",
            "False negatives 6\n",
            "Partitioned Set (4) | Training set size: 2041:\n",
            "Accuracy: 6968 out of 13456; 0.5178359096313913\n",
            "False positives 6483\n",
            "False negatives 5\n",
            "Partitioned Set (5) | Training set size: 2688:\n",
            "Accuracy: 6670 out of 12809; 0.5207276133968304\n",
            "False positives 6133\n",
            "False negatives 6\n",
            "Partitioned Set (6) | Training set size: 3336:\n",
            "Accuracy: 6303 out of 12161; 0.518296192747307\n",
            "False positives 5853\n",
            "False negatives 5\n",
            "Partitioned Set (7) | Training set size: 3983:\n",
            "Accuracy: 6056 out of 11514; 0.5259683863123155\n",
            "False positives 5453\n",
            "False negatives 5\n",
            "Partitioned Set (8) | Training set size: 4630:\n",
            "Accuracy: 5616 out of 10867; 0.5167939633753565\n",
            "False positives 5247\n",
            "False negatives 4\n",
            "Partitioned Set (9) | Training set size: 5277:\n",
            "Accuracy: 5314 out of 10220; 0.5199608610567514\n",
            "False positives 4901\n",
            "False negatives 5\n",
            "Partitioned Set (10) | Training set size: 5925:\n",
            "Accuracy: 4934 out of 9572; 0.5154617634768074\n",
            "False positives 4637\n",
            "False negatives 1\n",
            "Partitioned Set (11) | Training set size: 6572:\n",
            "Accuracy: 4574 out of 8925; 0.5124929971988795\n",
            "False positives 4346\n",
            "False negatives 5\n",
            "Partitioned Set (12) | Training set size: 7219:\n",
            "Accuracy: 4262 out of 8278; 0.5148586615124426\n",
            "False positives 4013\n",
            "False negatives 3\n",
            "Partitioned Set (13) | Training set size: 7866:\n",
            "Accuracy: 3958 out of 7631; 0.5186738304285152\n",
            "False positives 3669\n",
            "False negatives 4\n",
            "Partitioned Set (14) | Training set size: 8514:\n",
            "Accuracy: 3597 out of 6983; 0.5151081197193184\n",
            "False positives 3386\n",
            "False negatives 0\n",
            "Partitioned Set (15) | Training set size: 9161:\n",
            "Accuracy: 3282 out of 6336; 0.5179924242424242\n",
            "False positives 3051\n",
            "False negatives 3\n",
            "Partitioned Set (16) | Training set size: 9808:\n",
            "Accuracy: 2936 out of 5689; 0.5160836702408156\n",
            "False positives 2751\n",
            "False negatives 2\n",
            "Partitioned Set (17) | Training set size: 10455:\n",
            "Accuracy: 2637 out of 5042; 0.5230067433558112\n",
            "False positives 2402\n",
            "False negatives 3\n",
            "Partitioned Set (18) | Training set size: 11103:\n",
            "Accuracy: 2318 out of 4394; 0.5275375512061903\n",
            "False positives 2075\n",
            "False negatives 1\n",
            "Partitioned Set (19) | Training set size: 11750:\n",
            "Accuracy: 1970 out of 3747; 0.5257539364825193\n",
            "False positives 1776\n",
            "False negatives 1\n",
            "Partitioned Set (20) | Training set size: 12397:\n",
            "Accuracy: 1635 out of 3100; 0.5274193548387097\n",
            "False positives 1464\n",
            "False negatives 1\n",
            "Total accuracy: 95964, penalty: 89010\n",
            "Total stats: \n",
            " Total false positives: 88938; Total false negatives: 72\n"
          ],
          "name": "stdout"
        },
        {
          "output_type": "display_data",
          "data": {
            "image/png": "[encoded data removed]",
            "text/plain": [
              "<Figure size 432x288 with 1 Axes>"
            ]
          },
          "metadata": {
            "tags": []
          }
        }
      ]
    },
    {
      "metadata": {
        "id": "1qV4YsLPurNV",
        "colab_type": "code",
        "colab": {
          "base_uri": "https://localhost:8080/",
          "height": 357
        },
        "outputId": "b06bf000-dd49-499c-cc16-6ac9957d048c"
      },
      "cell_type": "code",
      "source": [
        "def precision(tp, fp):\n",
        "  print((tp) / (tp + fp))\n",
        "\n",
        "precision(8005, 7386)\n",
        "precision(7663, 7081)\n",
        "precision(7266, 6831)\n",
        "precision(6968, 6483)\n",
        "precision(6670, 6133)\n",
        "precision(6303, 5853)\n",
        "precision(6056, 5453)\n",
        "precision(5616, 5247)\n",
        "precision(5314, 4901)\n",
        "precision(4934, 4637)\n",
        "precision(4574, 4346)\n",
        "precision(4262, 4013)\n",
        "precision(7866, 3669)\n",
        "precision(3597, 3386)\n",
        "precision(3282, 3051)\n",
        "precision(2936, 2751)\n",
        "precision(2637, 2402)\n",
        "precision(2318, 2075)\n",
        "precision(1970, 1776)\n",
        "precision(1635, 1464)"
      ],
      "execution_count": 27,
      "outputs": [
        {
          "output_type": "stream",
          "text": [
            "0.5201091547007992\n",
            "0.5197368421052632\n",
            "0.5154288146414131\n",
            "0.5180283993755112\n",
            "0.5209716472701711\n",
            "0.5185093780848964\n",
            "0.5261968893909115\n",
            "0.5169842584921293\n",
            "0.5202153695545766\n",
            "0.5155156201023926\n",
            "0.512780269058296\n",
            "0.5150453172205438\n",
            "0.681924577373212\n",
            "0.5151081197193184\n",
            "0.5182378019895784\n",
            "0.5162651661684544\n",
            "0.5233181186743402\n",
            "0.5276576371500113\n",
            "0.5258942872397224\n",
            "0.5275895450145208\n"
          ],
          "name": "stdout"
        }
      ]
    },
    {
      "metadata": {
        "id": "1-sED5MRVv0N",
        "colab_type": "code",
        "colab": {
          "base_uri": "https://localhost:8080/",
          "height": 357
        },
        "outputId": "ff465ee5-5ca1-4052-f3fd-1ba8a0145a8e"
      },
      "cell_type": "code",
      "source": [
        "def recall(tp, fn):\n",
        "  print((tp) / (tp + fn))\n",
        "\n",
        "recall(8005, 6)\n",
        "recall(7663, 6)\n",
        "recall(7266, 6)\n",
        "recall(6968, 5)\n",
        "recall(6670, 6)\n",
        "recall(6303, 5)\n",
        "recall(6056, 5)\n",
        "recall(5616, 4)\n",
        "recall(5314, 5)\n",
        "recall(4934, 1)\n",
        "recall(4574, 5)\n",
        "recall(4262, 3)\n",
        "recall(7866, 4)\n",
        "recall(3597, 0)\n",
        "recall(3282, 3)\n",
        "recall(2936, 2)\n",
        "recall(2637, 3)\n",
        "recall(2318, 1)\n",
        "recall(1970, 1)\n",
        "recall(1635, 1)"
      ],
      "execution_count": 28,
      "outputs": [
        {
          "output_type": "stream",
          "text": [
            "0.9992510298339783\n",
            "0.9992176294171339\n",
            "0.9991749174917491\n",
            "0.9992829485157034\n",
            "0.9991012582384662\n",
            "0.9992073557387444\n",
            "0.9991750536215146\n",
            "0.999288256227758\n",
            "0.999059973679263\n",
            "0.9997973657548126\n",
            "0.9989080585280629\n",
            "0.9992966002344665\n",
            "0.9994917407878018\n",
            "1.0\n",
            "0.9990867579908675\n",
            "0.9993192648059904\n",
            "0.9988636363636364\n",
            "0.9995687796463993\n",
            "0.9994926433282597\n",
            "0.9993887530562348\n"
          ],
          "name": "stdout"
        }
      ]
    },
    {
      "metadata": {
        "id": "XWtMFcFDch0e",
        "colab_type": "code",
        "colab": {}
      },
      "cell_type": "code",
      "source": [
        ""
      ],
      "execution_count": 0,
      "outputs": []
    }
  ]
}