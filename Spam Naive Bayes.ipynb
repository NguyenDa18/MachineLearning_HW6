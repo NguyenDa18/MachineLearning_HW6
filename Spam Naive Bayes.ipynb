{
 "cells": [
  {
   "cell_type": "code",
   "execution_count": 1,
   "metadata": {
    "collapsed": false
   },
   "outputs": [],
   "source": [
    "import csv\n",
    "import random\n",
    "import math\n",
    "\n",
    "def load_data(filename):\n",
    "    with open(filename, newline=''):\n",
    "        line = csv.reader(filename, delimiter=' ')\n",
    "        print(line)\n",
    "\n",
    "def load_csv(filename):\n",
    "    lines = csv.reader(open(filename))\n",
    "    dataset = list(lines)\n",
    "#     print(str(dataset[0])[0])\n",
    "#     for row in range(len(dataset)):\n",
    "#         dataset[row] = str(dataset[row]).split(\" \")\n",
    "\n",
    "def mean(numbers):\n",
    "    return sum(numbers) / float(len(numbers))\n",
    "\n",
    "def stdev(numbers):\n",
    "    avg = mean(numbers)\n",
    "    variance = sum([pow(x - avg, 2) for x in numbers]) / float(len(numbers) - 1)\n",
    "    return math.sqrt(variance)\n",
    "\n",
    "# make training and test datasets\n",
    "def split_dataset(dataset, split_ratio):\n",
    "    train_size = int(len(dataset) * split_ratio)\n",
    "    train_set = []\n",
    "    copy = list(dataset)\n",
    "    while (len(train_set) < train_size):\n",
    "        index = random.randrange(len(copy))\n",
    "        train_set.append(copy.pop(index))\n",
    "    return [train_set, copy]\n",
    "\n",
    "\n",
    "def separate_by_class(dataset):\n",
    "    separated = []\n",
    "    for i in range(len(dataset)):\n",
    "        vector = dataset[i]\n",
    "        if (vector[1] not in separated):\n",
    "            separated[vector[-1]] = []\n",
    "        separated[vector[-1]].append(vector)\n",
    "    return separated\n",
    "\n",
    "def summarize(dataset):\n",
    "    summaries = [(mean(attribute), stdev(attribute)) for attribute in zip(*dataset)]\n",
    "    return summaries\n",
    "\n",
    "def summarize_by_class(dataset):\n",
    "    separated = separate_by_class(dataset)\n",
    "    summaries = {}\n",
    "    for class_value, instances in separated.iteritems():\n",
    "        summaries[class_value] = summarize(instances)\n",
    "        \n",
    "    return summaries"
   ]
  },
  {
   "cell_type": "code",
   "execution_count": 2,
   "metadata": {
    "collapsed": false
   },
   "outputs": [
    {
     "name": "stdout",
     "output_type": "stream",
     "text": [
      "<_csv.reader object at 0x1063ed748>\n"
     ]
    }
   ],
   "source": [
    "load_csv('./SpamInstances.txt')\n",
    "load_data('./SpamInstances.txt')"
   ]
  },
  {
   "cell_type": "markdown",
   "metadata": {},
   "source": [
    "# Spam Classifier\n",
    "- Column 1 = feature vector instance number\n",
    "- Column 2 = {-1,1} whether message is spam (1) or not (-1)\n",
    "- Column 3 = feature vector, 344 chars long where each char is a unique word or an email feature that would identify email as spam/non-spam. Boolean of whether or not feature occurred in email (1 = yes, 0 = no)"
   ]
  },
  {
   "cell_type": "code",
   "execution_count": 1,
   "metadata": {
    "collapsed": false
   },
   "outputs": [
    {
     "name": "stdout",
     "output_type": "stream",
     "text": [
      "-1\n"
     ]
    }
   ],
   "source": [
    "%matplotlib inline\n",
    "import matplotlib.pyplot as plt\n",
    "import pandas as pd\n",
    "import numpy as np\n",
    "import seaborn as sns\n",
    "from sklearn.naive_bayes import GaussianNB\n",
    "from sklearn.metrics import confusion_matrix\n",
    "\n",
    "df_j = pd.read_csv('./SpamInstances.txt', header=None)\n",
    "\n",
    "# Divide each row into arrs\n",
    "df_j = df_j[0].str.split(\" \")[1:]\n",
    "for row in range(len(df_j)):\n",
    "    df_j.iloc[row] = [int(el) for el in df_j.iloc[row]]\n",
    "\n",
    "# for el in range(len(df_j.iloc[0])):\n",
    "#     print(el, df_j.iloc[0][el])\n",
    "#     df_j.iloc[0][el] = float(df_j.iloc[0][el])\n",
    "# print(df_j.iloc[0])\n"
   ]
  },
  {
   "cell_type": "code",
   "execution_count": 8,
   "metadata": {
    "collapsed": false
   },
   "outputs": [
    {
     "name": "stdout",
     "output_type": "stream",
     "text": [
      "15497\n"
     ]
    }
   ],
   "source": [
    "# Create our Spam / Non-Spam lists\n",
    "SPAM = []\n",
    "HAM = []\n",
    "\n",
    "for row in range(len(df_j)):\n",
    "    if (df_j.iloc[row][1] == 1):\n",
    "        SPAM += [df_j.iloc[row]]\n",
    "    elif (df_j.iloc[row][1] == -1):\n",
    "        HAM += [df_j.iloc[row]]\n",
    "    else:\n",
    "        print(df_j.iloc[row])\n",
    "        \n",
    "num_SPAM = len(SPAM) # 6712\n",
    "num_HAM = len(HAM) # 8785\n",
    "\n",
    "P_SPAM = num_SPAM / len(df_j)\n",
    "P_HAM = num_HAM / len(df_j)\n",
    "\n",
    "print(P_SPAM)"
   ]
  },
  {
   "cell_type": "code",
   "execution_count": null,
   "metadata": {
    "collapsed": true
   },
   "outputs": [],
   "source": []
  },
  {
   "cell_type": "code",
   "execution_count": null,
   "metadata": {
    "collapsed": true
   },
   "outputs": [],
   "source": [
    "dataset = [[1], [2], [3], [4], [5]]\n",
    "split_ratio = 0.67\n",
    "train, test = split_dataset(dataset, split_ratio)"
   ]
  },
  {
   "cell_type": "code",
   "execution_count": null,
   "metadata": {
    "collapsed": true
   },
   "outputs": [],
   "source": []
  }
 ],
 "metadata": {
  "anaconda-cloud": {},
  "kernelspec": {
   "display_name": "Python 3",
   "language": "python",
   "name": "python3"
  },
  "language_info": {
   "codemirror_mode": {
    "name": "ipython",
    "version": 3
   },
   "file_extension": ".py",
   "mimetype": "text/x-python",
   "name": "python",
   "nbconvert_exporter": "python",
   "pygments_lexer": "ipython3",
   "version": "3.5.2"
  }
 },
 "nbformat": 4,
 "nbformat_minor": 1
}
