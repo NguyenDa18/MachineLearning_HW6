{
  "nbformat": 4,
  "nbformat_minor": 0,
  "metadata": {
    "colab": {
      "name": "Spam Naive Bayes.ipynb",
      "version": "0.3.2",
      "provenance": [],
      "toc_visible": true,
      "include_colab_link": true
    },
    "language_info": {
      "codemirror_mode": {
        "name": "ipython",
        "version": 3
      },
      "file_extension": ".py",
      "mimetype": "text/x-python",
      "name": "python",
      "nbconvert_exporter": "python",
      "pygments_lexer": "ipython3",
      "version": "3.5.2"
    },
    "kernelspec": {
      "display_name": "Python 3",
      "language": "python",
      "name": "python3"
    }
  },
  "cells": [
    {
      "cell_type": "markdown",
      "metadata": {
        "id": "view-in-github",
        "colab_type": "text"
      },
      "source": [
        "<a href=\"https://colab.research.google.com/github/NguyenDa18/MachineLearning_HW6/blob/master/Spam%20Naive%20Bayes.ipynb\" target=\"_parent\"><img src=\"https://colab.research.google.com/assets/colab-badge.svg\" alt=\"Open In Colab\"/></a>"
      ]
    },
    {
      "metadata": {
        "id": "vHLLbJphV7YP",
        "colab_type": "code",
        "colab": {}
      },
      "cell_type": "code",
      "source": [
        "import random\n",
        "import math\n",
        "\n",
        "def mean(numbers):\n",
        "    return sum(numbers) / float(len(numbers))\n",
        "\n",
        "# make training and test datasets\n",
        "def split_dataset(dataset, split_ratio):\n",
        "    train_size = int(len(dataset) * split_ratio)\n",
        "    train_set = []\n",
        "    copy = list(dataset)\n",
        "    while (len(train_set) < train_size):\n",
        "        index = random.randrange(len(copy))\n",
        "        train_set.append(copy.pop(index))\n",
        "    return [train_set, copy]"
      ],
      "execution_count": 0,
      "outputs": []
    },
    {
      "metadata": {
        "id": "lYqSbcPLV7YV",
        "colab_type": "text"
      },
      "cell_type": "markdown",
      "source": [
        "# Spam Classifier\n",
        "- Column 1 = feature vector instance number\n",
        "- Column 2 = {-1,1} whether message is spam (1) or not (-1)\n",
        "- Column 3 = feature vector, 344 chars long where each char is a unique word or an email feature that would identify email as spam/non-spam. Boolean of whether or not feature occurred in email (1 = yes, 0 = no)\n",
        "\n",
        "- [Source](https://www.youtube.com/watch?v=8aZNAmWKGfs)"
      ]
    },
    {
      "metadata": {
        "id": "_CDDgnPtWEyH",
        "colab_type": "text"
      },
      "cell_type": "markdown",
      "source": [
        "# 1) Process txt data and split into test and train sets"
      ]
    },
    {
      "metadata": {
        "id": "Ww6sCh_YV7YX",
        "colab_type": "code",
        "colab": {
          "base_uri": "https://localhost:8080/",
          "height": 88
        },
        "outputId": "7fea0e7b-cec6-4407-a907-bb5d35d69239"
      },
      "cell_type": "code",
      "source": [
        "import pandas as pd\n",
        "import numpy as np\n",
        "\n",
        "df_j = pd.read_csv('./SpamInstances.txt', header=None)\n",
        "\n",
        "# Divide each row into arrs\n",
        "df_j = df_j[0].str.split(\" \")[1:]\n",
        "for row in range(len(df_j)):\n",
        "    df_j.iloc[row] = [int(el) for el in df_j.iloc[row]]\n",
        "    \n",
        "    \n",
        "df_j, df_j_test = split_dataset(df_j, 0.80)\n",
        "\n",
        "print(len(df_j))\n",
        "print(len(df_j_test))\n",
        "\n",
        "print(df_j_test[:6])\n"
      ],
      "execution_count": 57,
      "outputs": [
        {
          "output_type": "stream",
          "text": [
            "12397\n",
            "3100\n",
            "[[1009, -1, 1001000000000000000000000000000000000000000000000000000000000000000000000000000000000000000000000000000000000000000000000000000000000000000000000000000000000000000000000000000000000000000000000000000000000000000000000000000000000000000000000000000000000000000000000000000000000000000000000000000000000000000000000000000000000000000000], [101, -1, 100000000000000000000000000000000000000000000000000000000000000000000000000000000000000000000000000000000000000000000000000000000000000000000000000000000000000000000000000000000000000000000000000000000000000000000000000000000000000000000000000000000000000000000000000000000000000000000000000000000000000000000000000000000000000], [1014, -1, 1000000000000000000000000000000000000000000000000000000000000000000000000000000000000000000000000000000000000000000000000000000000000000000000000000000000000000000000000000000000000000000000000000000000000000000000000000000000000000000000000000000000000000000000000000000000000000000000000000000000000000000000000000000000000000000000], [1016, -1, 1000000001000000000000000000000000000000000000000000000000000000000000000000000000000000000000000000000000000000000000000000000000000000000000000000000000000000000000000000000000000000000000000000000000000000000000000000000000000000000000000000000000000000000000000000000000000000000000000000000000000000000000000000000000000000000], [1018, -1, 1000000000000100000000000000000000000000000000000000000000000000000000000000000000000000000000000000000000000000000000000000000000000000000000000000000000000000000000000000000000000000000000000000000000000000000000000000000000000000000000000000000000000000000000000000000000000000000000000000000000000000000000000000000000000000000000], [1019, -1, 1000000000000000000000000000000000000000000000000000000000000000000000000000000000000000000000000000000000000000000000000000000000000000000000000000000000000000000000000000000000000000000000000000000000000000000000000000000000000000000000000000000000000000000000000000000000000000000000000000000000000000000000000000000000000000000000]]\n"
          ],
          "name": "stdout"
        }
      ]
    },
    {
      "metadata": {
        "id": "NvW-UKvnWQKd",
        "colab_type": "text"
      },
      "cell_type": "markdown",
      "source": [
        "# 2) Calculate Priors\n",
        "- total num. SPAM & num. HAM in test dataset\n",
        "- probability of SPAM & HAM for each feature in a vector"
      ]
    },
    {
      "metadata": {
        "id": "WHTq-aCVV7Ym",
        "colab_type": "code",
        "colab": {}
      },
      "cell_type": "code",
      "source": [
        "# Count number of times feature occurred in message\n",
        "def calc_feature_info(str):\n",
        "    occurred = str.count('1')\n",
        "    non_occurred = str.count('0')\n",
        "    return occurred, non_occurred"
      ],
      "execution_count": 0,
      "outputs": []
    },
    {
      "metadata": {
        "id": "_f3KkWPjV7Yq",
        "colab_type": "code",
        "colab": {}
      },
      "cell_type": "code",
      "source": [
        "# Create our Spam / Non-Spam data structs\n",
        "# SPAM = number of total data considered spam\n",
        "# HAM = number of total data considered ham\n",
        "# spam_feature = number of occurrences of feature in vector\n",
        "# ham_feature = number of occurrences of non-spam feature in vector\n",
        "def preprocess_test_data():\n",
        "  SPAM = []\n",
        "  HAM = []\n",
        "  spam_feature = {}\n",
        "  ham_feature = {}\n",
        "\n",
        "  for row in range(len(df_j)):\n",
        "      if (df_j[row][1] == 1):\n",
        "          SPAM += [df_j[row]]\n",
        "      elif (df_j[row][1] == -1):\n",
        "          HAM += [df_j[row]]\n",
        "      else:\n",
        "          print(df_j.iloc[row])\n",
        "        \n",
        "  for row in range(len(df_j)):\n",
        "      vector = str(df_j[row][2])\n",
        "      occurred, non_occurred = calc_feature_info(vector)\n",
        "      spam_feature[df_j[row][0]] = occurred / len(vector)\n",
        "      ham_feature[df_j[row][0]] = non_occurred / len(vector)\n",
        "        \n",
        "  num_SPAM = len(SPAM) # 6712\n",
        "  num_HAM = len(HAM) # 8785\n",
        "  \n",
        "  return num_SPAM, num_HAM"
      ],
      "execution_count": 0,
      "outputs": []
    },
    {
      "metadata": {
        "id": "e5oEomFLV7Yu",
        "colab_type": "code",
        "colab": {}
      },
      "cell_type": "code",
      "source": [
        "def find_priors():\n",
        "  ham_probs = [0] * 334\n",
        "  spam_probs = [0] * 334\n",
        "\n",
        "  for row in range(len(df_j)):\n",
        "      vector = str(df_j[row][2])\n",
        "      for i, ltr in enumerate(vector):\n",
        "          if (ltr == '1'):\n",
        "              spam_probs[i] += 1\n",
        "          elif (ltr == '0'):\n",
        "              ham_probs[i] += 1\n",
        "\n",
        "  ham_probs = [x / num_HAM for x in ham_probs]\n",
        "  spam_probs = [x / num_SPAM for x in spam_probs]\n",
        "\n",
        "  return ham_probs, spam_probs"
      ],
      "execution_count": 0,
      "outputs": []
    },
    {
      "metadata": {
        "id": "M9MAqq1vV7Y5",
        "colab_type": "code",
        "colab": {}
      },
      "cell_type": "code",
      "source": [
        "# USE Naive Bayes to detect spam/ham\n",
        "def classify_data(data):\n",
        "  ham_probs, spam_probs = find_priors()\n",
        "  spam_probabilities = []\n",
        "  ham_probabilities = []\n",
        "  for i, ltr in enumerate(str(data)):\n",
        "    if ltr == '1':\n",
        "      spam_probabilities += [spam_probs[i]]\n",
        "      ham_probabilities += [ham_probs[i]]\n",
        "    elif ltr == '0':\n",
        "      spam_probabilities += [1 - spam_probs[i]]\n",
        "      ham_probabilities += [1 - ham_probs[i]]\n",
        "      \n",
        "  # probability product for each feature vector that => SPAM\n",
        "  spam_result = np.prod(np.array(spam_probabilities))\n",
        "  \n",
        "  # probability product for each feature vector that => HAM\n",
        "  ham_result = np.prod(np.array(ham_probabilities))\n",
        "  return spam_result, ham_result"
      ],
      "execution_count": 0,
      "outputs": []
    },
    {
      "metadata": {
        "id": "rYBWlve2a64Z",
        "colab_type": "code",
        "colab": {}
      },
      "cell_type": "code",
      "source": [
        "def test_spam_naive_bayes(vector):\n",
        "  spam_result, ham_result = classify_data(str(vector))\n",
        "  \n",
        "  # P(feature1 | SPAM) * P(feature2 | SPAM) * ... * P(featureN | SPAM) * P(SPAM) /\n",
        "  # P(feature1 | SPAM) * P(feature2 | SPAM) * ... * P(featureN | SPAM) * P(SPAM) + P(feature1 | HAM) * P(feature2 | HAM) * ... * P(featureN | HAM) * P(HAM)\n",
        "  \n",
        "  num_SPAM, num_HAM = preprocess_test_data()\n",
        "  P_SPAM = num_SPAM / len(df_j) # 0.43311608698457765\n",
        "  P_HAM = num_HAM / len(df_j) # 0.5668839130154223\n",
        "  \n",
        "  is_spam = (spam_result * P_SPAM) / ((spam_result * P_SPAM) + (ham_result * P_HAM))\n",
        "  is_ham = (ham_result * P_HAM) / ((spam_result * P_SPAM) + (ham_result * P_HAM))\n",
        "  return is_spam, is_ham"
      ],
      "execution_count": 0,
      "outputs": []
    },
    {
      "metadata": {
        "id": "Xl2XSTwDeqrx",
        "colab_type": "code",
        "colab": {
          "base_uri": "https://localhost:8080/",
          "height": 34
        },
        "outputId": "baed0d31-be58-4d7c-efe0-75a7e4ee3baa"
      },
      "cell_type": "code",
      "source": [
        "vector = '1000000000000000000000000000000000000000000000000000000000000000000000000000000000000000000000000000000000000000000000000000000000000000000000000000000000000000000000000000000000000000000000000000000000000000000000000000000000000000000000000000000000000000000000000000000000000000000000000000000000000000000000000000000000000000000000'\n",
        "test_spam_naive_bayes(vector)"
      ],
      "execution_count": 79,
      "outputs": [
        {
          "output_type": "execute_result",
          "data": {
            "text/plain": [
              "(1.0, 2.5529159935480078e-80)"
            ]
          },
          "metadata": {
            "tags": []
          },
          "execution_count": 79
        }
      ]
    },
    {
      "metadata": {
        "id": "fy5NFbiZcZJx",
        "colab_type": "code",
        "colab": {
          "base_uri": "https://localhost:8080/",
          "height": 187
        },
        "outputId": "d8cc607d-440c-4f92-89cf-5d281051a20c"
      },
      "cell_type": "code",
      "source": [
        "for i in range(len(df_j_test[:10])):\n",
        "  is_spam, is_ham = test_spam_naive_bayes(i)\n",
        "  print(is_spam, is_ham)"
      ],
      "execution_count": 85,
      "outputs": [
        {
          "output_type": "stream",
          "text": [
            "1523.170686456151 -1522.170686456151\n",
            "0.9132568479438559 0.08674315205614415\n",
            "0.43413729128014844 0.5658627087198516\n",
            "0.43413729128014844 0.5658627087198516\n",
            "0.43413729128014844 0.5658627087198516\n",
            "0.43413729128014844 0.5658627087198516\n",
            "0.43413729128014844 0.5658627087198516\n",
            "0.43413729128014844 0.5658627087198516\n",
            "0.43413729128014844 0.5658627087198516\n",
            "0.43413729128014844 0.5658627087198516\n"
          ],
          "name": "stdout"
        }
      ]
    },
    {
      "metadata": {
        "id": "1qV4YsLPurNV",
        "colab_type": "code",
        "colab": {}
      },
      "cell_type": "code",
      "source": [
        ""
      ],
      "execution_count": 0,
      "outputs": []
    }
  ]
}